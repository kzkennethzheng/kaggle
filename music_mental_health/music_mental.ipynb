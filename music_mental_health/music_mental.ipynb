{
 "cells": [
  {
   "cell_type": "markdown",
   "metadata": {},
   "source": [
    "# Loading the data"
   ]
  },
  {
   "cell_type": "code",
   "execution_count": 642,
   "metadata": {},
   "outputs": [],
   "source": [
    "import pandas as pd\n",
    "import matplotlib.pyplot as plt\n",
    "import seaborn as sns\n",
    "import numpy as np"
   ]
  },
  {
   "cell_type": "markdown",
   "metadata": {},
   "source": [
    "The data is from this [Kaggle page](https://www.kaggle.com/datasets/catherinerasgaitis/mxmh-survey-results)."
   ]
  },
  {
   "cell_type": "code",
   "execution_count": 599,
   "metadata": {},
   "outputs": [],
   "source": [
    "data_filename = 'mxmh_survey_results.csv'\n",
    "survey_data = pd.read_csv(data_filename, parse_dates=True)"
   ]
  },
  {
   "cell_type": "code",
   "execution_count": 600,
   "metadata": {},
   "outputs": [
    {
     "name": "stdout",
     "output_type": "stream",
     "text": [
      "Index(['Timestamp', 'Age', 'Primary streaming service', 'Hours per day',\n",
      "       'While working', 'Instrumentalist', 'Composer', 'Fav genre',\n",
      "       'Exploratory', 'Foreign languages', 'BPM', 'Frequency [Classical]',\n",
      "       'Frequency [Country]', 'Frequency [EDM]', 'Frequency [Folk]',\n",
      "       'Frequency [Gospel]', 'Frequency [Hip hop]', 'Frequency [Jazz]',\n",
      "       'Frequency [K pop]', 'Frequency [Latin]', 'Frequency [Lofi]',\n",
      "       'Frequency [Metal]', 'Frequency [Pop]', 'Frequency [R&B]',\n",
      "       'Frequency [Rap]', 'Frequency [Rock]', 'Frequency [Video game music]',\n",
      "       'Anxiety', 'Depression', 'Insomnia', 'OCD', 'Music effects',\n",
      "       'Permissions'],\n",
      "      dtype='object')\n"
     ]
    },
    {
     "data": {
      "text/html": [
       "<div>\n",
       "<style scoped>\n",
       "    .dataframe tbody tr th:only-of-type {\n",
       "        vertical-align: middle;\n",
       "    }\n",
       "\n",
       "    .dataframe tbody tr th {\n",
       "        vertical-align: top;\n",
       "    }\n",
       "\n",
       "    .dataframe thead th {\n",
       "        text-align: right;\n",
       "    }\n",
       "</style>\n",
       "<table border=\"1\" class=\"dataframe\">\n",
       "  <thead>\n",
       "    <tr style=\"text-align: right;\">\n",
       "      <th></th>\n",
       "      <th>Timestamp</th>\n",
       "      <th>Age</th>\n",
       "      <th>Primary streaming service</th>\n",
       "      <th>Hours per day</th>\n",
       "      <th>While working</th>\n",
       "      <th>Instrumentalist</th>\n",
       "      <th>Composer</th>\n",
       "      <th>Fav genre</th>\n",
       "      <th>Exploratory</th>\n",
       "      <th>Foreign languages</th>\n",
       "      <th>...</th>\n",
       "      <th>Frequency [R&amp;B]</th>\n",
       "      <th>Frequency [Rap]</th>\n",
       "      <th>Frequency [Rock]</th>\n",
       "      <th>Frequency [Video game music]</th>\n",
       "      <th>Anxiety</th>\n",
       "      <th>Depression</th>\n",
       "      <th>Insomnia</th>\n",
       "      <th>OCD</th>\n",
       "      <th>Music effects</th>\n",
       "      <th>Permissions</th>\n",
       "    </tr>\n",
       "  </thead>\n",
       "  <tbody>\n",
       "    <tr>\n",
       "      <th>0</th>\n",
       "      <td>8/27/2022 19:29:02</td>\n",
       "      <td>18.0</td>\n",
       "      <td>Spotify</td>\n",
       "      <td>3.0</td>\n",
       "      <td>Yes</td>\n",
       "      <td>Yes</td>\n",
       "      <td>Yes</td>\n",
       "      <td>Latin</td>\n",
       "      <td>Yes</td>\n",
       "      <td>Yes</td>\n",
       "      <td>...</td>\n",
       "      <td>Sometimes</td>\n",
       "      <td>Very frequently</td>\n",
       "      <td>Never</td>\n",
       "      <td>Sometimes</td>\n",
       "      <td>3.0</td>\n",
       "      <td>0.0</td>\n",
       "      <td>1.0</td>\n",
       "      <td>0.0</td>\n",
       "      <td>NaN</td>\n",
       "      <td>I understand.</td>\n",
       "    </tr>\n",
       "    <tr>\n",
       "      <th>1</th>\n",
       "      <td>8/27/2022 19:57:31</td>\n",
       "      <td>63.0</td>\n",
       "      <td>Pandora</td>\n",
       "      <td>1.5</td>\n",
       "      <td>Yes</td>\n",
       "      <td>No</td>\n",
       "      <td>No</td>\n",
       "      <td>Rock</td>\n",
       "      <td>Yes</td>\n",
       "      <td>No</td>\n",
       "      <td>...</td>\n",
       "      <td>Sometimes</td>\n",
       "      <td>Rarely</td>\n",
       "      <td>Very frequently</td>\n",
       "      <td>Rarely</td>\n",
       "      <td>7.0</td>\n",
       "      <td>2.0</td>\n",
       "      <td>2.0</td>\n",
       "      <td>1.0</td>\n",
       "      <td>NaN</td>\n",
       "      <td>I understand.</td>\n",
       "    </tr>\n",
       "    <tr>\n",
       "      <th>2</th>\n",
       "      <td>8/27/2022 21:28:18</td>\n",
       "      <td>18.0</td>\n",
       "      <td>Spotify</td>\n",
       "      <td>4.0</td>\n",
       "      <td>No</td>\n",
       "      <td>No</td>\n",
       "      <td>No</td>\n",
       "      <td>Video game music</td>\n",
       "      <td>No</td>\n",
       "      <td>Yes</td>\n",
       "      <td>...</td>\n",
       "      <td>Never</td>\n",
       "      <td>Rarely</td>\n",
       "      <td>Rarely</td>\n",
       "      <td>Very frequently</td>\n",
       "      <td>7.0</td>\n",
       "      <td>7.0</td>\n",
       "      <td>10.0</td>\n",
       "      <td>2.0</td>\n",
       "      <td>No effect</td>\n",
       "      <td>I understand.</td>\n",
       "    </tr>\n",
       "    <tr>\n",
       "      <th>3</th>\n",
       "      <td>8/27/2022 21:40:40</td>\n",
       "      <td>61.0</td>\n",
       "      <td>YouTube Music</td>\n",
       "      <td>2.5</td>\n",
       "      <td>Yes</td>\n",
       "      <td>No</td>\n",
       "      <td>Yes</td>\n",
       "      <td>Jazz</td>\n",
       "      <td>Yes</td>\n",
       "      <td>Yes</td>\n",
       "      <td>...</td>\n",
       "      <td>Sometimes</td>\n",
       "      <td>Never</td>\n",
       "      <td>Never</td>\n",
       "      <td>Never</td>\n",
       "      <td>9.0</td>\n",
       "      <td>7.0</td>\n",
       "      <td>3.0</td>\n",
       "      <td>3.0</td>\n",
       "      <td>Improve</td>\n",
       "      <td>I understand.</td>\n",
       "    </tr>\n",
       "    <tr>\n",
       "      <th>4</th>\n",
       "      <td>8/27/2022 21:54:47</td>\n",
       "      <td>18.0</td>\n",
       "      <td>Spotify</td>\n",
       "      <td>4.0</td>\n",
       "      <td>Yes</td>\n",
       "      <td>No</td>\n",
       "      <td>No</td>\n",
       "      <td>R&amp;B</td>\n",
       "      <td>Yes</td>\n",
       "      <td>No</td>\n",
       "      <td>...</td>\n",
       "      <td>Very frequently</td>\n",
       "      <td>Very frequently</td>\n",
       "      <td>Never</td>\n",
       "      <td>Rarely</td>\n",
       "      <td>7.0</td>\n",
       "      <td>2.0</td>\n",
       "      <td>5.0</td>\n",
       "      <td>9.0</td>\n",
       "      <td>Improve</td>\n",
       "      <td>I understand.</td>\n",
       "    </tr>\n",
       "  </tbody>\n",
       "</table>\n",
       "<p>5 rows × 33 columns</p>\n",
       "</div>"
      ],
      "text/plain": [
       "            Timestamp   Age Primary streaming service  Hours per day  \\\n",
       "0  8/27/2022 19:29:02  18.0                   Spotify            3.0   \n",
       "1  8/27/2022 19:57:31  63.0                   Pandora            1.5   \n",
       "2  8/27/2022 21:28:18  18.0                   Spotify            4.0   \n",
       "3  8/27/2022 21:40:40  61.0             YouTube Music            2.5   \n",
       "4  8/27/2022 21:54:47  18.0                   Spotify            4.0   \n",
       "\n",
       "  While working Instrumentalist Composer         Fav genre Exploratory  \\\n",
       "0           Yes             Yes      Yes             Latin         Yes   \n",
       "1           Yes              No       No              Rock         Yes   \n",
       "2            No              No       No  Video game music          No   \n",
       "3           Yes              No      Yes              Jazz         Yes   \n",
       "4           Yes              No       No               R&B         Yes   \n",
       "\n",
       "  Foreign languages  ...  Frequency [R&B]  Frequency [Rap] Frequency [Rock]  \\\n",
       "0               Yes  ...        Sometimes  Very frequently            Never   \n",
       "1                No  ...        Sometimes           Rarely  Very frequently   \n",
       "2               Yes  ...            Never           Rarely           Rarely   \n",
       "3               Yes  ...        Sometimes            Never            Never   \n",
       "4                No  ...  Very frequently  Very frequently            Never   \n",
       "\n",
       "  Frequency [Video game music] Anxiety Depression Insomnia  OCD Music effects  \\\n",
       "0                    Sometimes     3.0        0.0      1.0  0.0           NaN   \n",
       "1                       Rarely     7.0        2.0      2.0  1.0           NaN   \n",
       "2              Very frequently     7.0        7.0     10.0  2.0     No effect   \n",
       "3                        Never     9.0        7.0      3.0  3.0       Improve   \n",
       "4                       Rarely     7.0        2.0      5.0  9.0       Improve   \n",
       "\n",
       "     Permissions  \n",
       "0  I understand.  \n",
       "1  I understand.  \n",
       "2  I understand.  \n",
       "3  I understand.  \n",
       "4  I understand.  \n",
       "\n",
       "[5 rows x 33 columns]"
      ]
     },
     "execution_count": 600,
     "metadata": {},
     "output_type": "execute_result"
    }
   ],
   "source": [
    "print(survey_data.columns)\n",
    "survey_data.head()"
   ]
  },
  {
   "cell_type": "markdown",
   "metadata": {},
   "source": [
    "We are most interested in using the musical data to predict the psychological/physiological illnesses: depression, OCD, insomnia, and anxiety. Many of the categorical columns contain binary (yes/no) or spectrum (e.g. frequency) data. These columns particularly lend themselves well to ordinal encoding. We'll use one hot encoding to handle the other categorical columns."
   ]
  },
  {
   "cell_type": "markdown",
   "metadata": {},
   "source": [
    "## Spliting the training data"
   ]
  },
  {
   "cell_type": "code",
   "execution_count": 601,
   "metadata": {},
   "outputs": [],
   "source": [
    "from sklearn.model_selection import train_test_split\n",
    "\n",
    "y = survey_data.Depression\n",
    "X = survey_data.drop(['Depression', 'Insomnia', 'OCD', 'Anxiety'], axis=1)\n",
    "\n",
    "X_train_full, X_valid_full, y_train_full, y_valid_full = train_test_split(X, y, random_state=7)"
   ]
  },
  {
   "cell_type": "markdown",
   "metadata": {},
   "source": [
    "<hr/>\n",
    "\n",
    "# Cleaning\n",
    "## Looking for missing values"
   ]
  },
  {
   "cell_type": "code",
   "execution_count": 602,
   "metadata": {},
   "outputs": [
    {
     "name": "stdout",
     "output_type": "stream",
     "text": [
      "(552, 29)\n",
      "['Age', 'Primary streaming service', 'While working', 'Instrumentalist', 'Foreign languages', 'BPM', 'Music effects']\n",
      "Age                           1\n",
      "Primary streaming service     1\n",
      "While working                 1\n",
      "Instrumentalist               2\n",
      "Foreign languages             3\n",
      "BPM                          75\n",
      "Music effects                 5\n",
      "dtype: int64\n"
     ]
    }
   ],
   "source": [
    "print(X_train_full.shape)\n",
    "cols_with_missing = [col for col in X_train_full.columns if X_train_full[col].isnull().any()]\n",
    "print(cols_with_missing)\n",
    "\n",
    "missing_val_counts = X_train_full.isnull().sum()\n",
    "print(missing_val_counts[missing_val_counts > 0])"
   ]
  },
  {
   "cell_type": "markdown",
   "metadata": {},
   "source": [
    "Because this data originates from a survey, many left the BPM measuring heart rate question blank. With how often this occurs, it seems reasonable to drop this column in training the model. The other columns rarely have missing values, and it seems reasonable to impute them."
   ]
  },
  {
   "cell_type": "code",
   "execution_count": 603,
   "metadata": {},
   "outputs": [],
   "source": [
    "X_train = X_train_full.drop(['BPM', 'Timestamp'], axis=1)\n",
    "X_valid = X_valid_full.drop(['BPM', 'Timestamp'], axis=1)\n",
    "y_train = y_train_full\n",
    "y_valid = y_valid_full"
   ]
  },
  {
   "cell_type": "markdown",
   "metadata": {},
   "source": [
    "## Imputing missing values"
   ]
  },
  {
   "cell_type": "code",
   "execution_count": 604,
   "metadata": {},
   "outputs": [],
   "source": [
    "from sklearn.impute import SimpleImputer\n",
    "from sklearn.compose import ColumnTransformer"
   ]
  },
  {
   "cell_type": "code",
   "execution_count": 605,
   "metadata": {},
   "outputs": [],
   "source": [
    "num_cols = ['Age']\n",
    "cat_cols = ['Primary streaming service', 'While working', 'Instrumentalist', 'Composer', 'Foreign languages', 'Music effects']\n",
    "\n",
    "X_train[num_cols] = X_train[num_cols].fillna(X_train[num_cols].mean())\n",
    "X_valid[num_cols] = X_valid[num_cols].fillna(X_train[num_cols].mean())\n",
    "\n",
    "X_train[cat_cols] = X_train[cat_cols].fillna(X_train[cat_cols].mode().iloc[0])\n",
    "X_valid[cat_cols] = X_valid[cat_cols].fillna(X_train[cat_cols].mode().iloc[0])\n"
   ]
  },
  {
   "cell_type": "markdown",
   "metadata": {},
   "source": [
    "## Dealing with categorical columns"
   ]
  },
  {
   "cell_type": "code",
   "execution_count": 606,
   "metadata": {},
   "outputs": [],
   "source": [
    "obj_cols = X_train.select_dtypes(include=[object]).columns"
   ]
  },
  {
   "cell_type": "code",
   "execution_count": 607,
   "metadata": {},
   "outputs": [
    {
     "data": {
      "text/plain": [
       "[('Permissions', 1),\n",
       " ('While working', 2),\n",
       " ('Instrumentalist', 2),\n",
       " ('Composer', 2),\n",
       " ('Exploratory', 2),\n",
       " ('Foreign languages', 2),\n",
       " ('Music effects', 3),\n",
       " ('Frequency [Classical]', 4),\n",
       " ('Frequency [Country]', 4),\n",
       " ('Frequency [EDM]', 4),\n",
       " ('Frequency [Folk]', 4),\n",
       " ('Frequency [Gospel]', 4),\n",
       " ('Frequency [Hip hop]', 4),\n",
       " ('Frequency [Jazz]', 4),\n",
       " ('Frequency [K pop]', 4),\n",
       " ('Frequency [Latin]', 4),\n",
       " ('Frequency [Lofi]', 4),\n",
       " ('Frequency [Metal]', 4),\n",
       " ('Frequency [Pop]', 4),\n",
       " ('Frequency [R&B]', 4),\n",
       " ('Frequency [Rap]', 4),\n",
       " ('Frequency [Rock]', 4),\n",
       " ('Frequency [Video game music]', 4),\n",
       " ('Primary streaming service', 6),\n",
       " ('Fav genre', 16)]"
      ]
     },
     "execution_count": 607,
     "metadata": {},
     "output_type": "execute_result"
    }
   ],
   "source": [
    "d = {col: X_train[col].nunique() for col in obj_cols}\n",
    "sorted(d.items(), key=lambda x: x[1])"
   ]
  },
  {
   "cell_type": "markdown",
   "metadata": {},
   "source": [
    "The number of unique values in the 'Fav genre' field indicates that we should consider removing this column when modeling. With over 15 types of favorite genres, this field is unlikely to work well with one-hot encoding. Since the entries don't form a spectrum, ordinal encoding is also inappropriate."
   ]
  },
  {
   "cell_type": "code",
   "execution_count": 608,
   "metadata": {},
   "outputs": [],
   "source": [
    "X_train = X_train.drop(['Fav genre'], axis=1)\n",
    "X_valid = X_valid.drop(['Fav genre'], axis=1)"
   ]
  },
  {
   "cell_type": "markdown",
   "metadata": {},
   "source": [
    "We need to ensure that the ColumnTransformer we'll eventually apply doesn't remove the numerical columns. We'll operate on these columns by scaling them to zero mean and variance 1."
   ]
  },
  {
   "cell_type": "code",
   "execution_count": 609,
   "metadata": {},
   "outputs": [],
   "source": [
    "num_cols = [col for col in X_train.columns if X_train[col].dtype in ['int64', 'float64']]"
   ]
  },
  {
   "cell_type": "code",
   "execution_count": 610,
   "metadata": {},
   "outputs": [],
   "source": [
    "from sklearn.preprocessing import OneHotEncoder\n",
    "from sklearn.preprocessing import OrdinalEncoder\n",
    "from sklearn.preprocessing import StandardScaler"
   ]
  },
  {
   "cell_type": "code",
   "execution_count": 611,
   "metadata": {},
   "outputs": [],
   "source": [
    "del d['Fav genre']\n",
    "del d['Primary streaming service']\n",
    "\n",
    "freq_cols = [col for col in d.keys() if col.startswith('Frequency')]\n",
    "freq_cats = ['Very frequently', 'Sometimes', 'Rarely', 'Never']\n",
    "for col in freq_cols:\n",
    "    del d[col]\n",
    "\n",
    "del d['Music effects']\n",
    "effects_cats = ['Improve', 'No effect', 'Worsen']\n",
    "\n",
    "ordinal_cols = list(d.keys())\n",
    "#onehot_cols = ['Primary streaming service', 'Fav genre']\n",
    "onehot_cols = ['Primary streaming service']\n",
    "\n",
    "cat_processor = ColumnTransformer(\n",
    "    transformers=[\n",
    "        ('ord', OrdinalEncoder(), ordinal_cols),\n",
    "        ('freq', OrdinalEncoder(categories=[freq_cats for _ in range(len(freq_cols))]), freq_cols),\n",
    "        ('effects', OrdinalEncoder(categories=[effects_cats]), ['Music effects']),\n",
    "        ('onehot', OneHotEncoder(handle_unknown='ignore'), onehot_cols),\n",
    "        ('scaler', StandardScaler(), num_cols)\n",
    "    ]\n",
    ")"
   ]
  },
  {
   "cell_type": "markdown",
   "metadata": {},
   "source": [
    "<hr />\n",
    "\n",
    "# Modeling"
   ]
  },
  {
   "cell_type": "code",
   "execution_count": 612,
   "metadata": {},
   "outputs": [],
   "source": [
    "from sklearn.ensemble import RandomForestRegressor\n",
    "from sklearn.linear_model import LinearRegression\n",
    "from xgboost import XGBRegressor\n",
    "from sklearn.pipeline import Pipeline"
   ]
  },
  {
   "cell_type": "code",
   "execution_count": 613,
   "metadata": {},
   "outputs": [],
   "source": [
    "prelim_models = [LinearRegression(), RandomForestRegressor(random_state=7), XGBRegressor()]\n",
    "steps = [('cat_processor', cat_processor), None]\n",
    "pipelines = []\n",
    "\n",
    "for i, model in enumerate(prelim_models):\n",
    "    steps.pop()\n",
    "    steps.append((f'model[{i}]', model))\n",
    "    pipelines.append(Pipeline(steps=steps.copy()))"
   ]
  },
  {
   "cell_type": "code",
   "execution_count": 614,
   "metadata": {},
   "outputs": [],
   "source": [
    "from sklearn.metrics import mean_squared_error\n",
    "from sklearn.model_selection import cross_val_score"
   ]
  },
  {
   "cell_type": "code",
   "execution_count": 615,
   "metadata": {},
   "outputs": [
    {
     "name": "stdout",
     "output_type": "stream",
     "text": [
      "Model[0] score: 9.258313044262229\n",
      "Model[1] score: 8.76258123955774\n",
      "Model[2] score: 10.349187578713504\n"
     ]
    }
   ],
   "source": [
    "for i, pipe in enumerate(pipelines):\n",
    "    scores = -1 * cross_val_score(pipe, X_train, y_train, cv=5, scoring=\"neg_mean_squared_error\")\n",
    "    print(f'Model[{i}] score: {scores.mean()}')"
   ]
  },
  {
   "cell_type": "markdown",
   "metadata": {},
   "source": [
    "We ran the code with and without the 'Fav genre' field and found that linear regression does better without it, while random forests and gradient boosting do slightly worse without it. Dropping the column will simplify our model a bit, leading to less overfitting, and keeping it doesn't gain much, so we'll drop it.\n",
    "\n",
    "Without additional hyperparameter/feature tuning, we notice that random forests does the best, then linear regression in second, and gradient boosting doing the worst."
   ]
  },
  {
   "cell_type": "markdown",
   "metadata": {},
   "source": [
    "## Hyperparameter tuning: random forests"
   ]
  },
  {
   "cell_type": "code",
   "execution_count": 616,
   "metadata": {},
   "outputs": [],
   "source": [
    "from sklearn.model_selection import GridSearchCV"
   ]
  },
  {
   "cell_type": "code",
   "execution_count": 617,
   "metadata": {},
   "outputs": [],
   "source": [
    "n_estimators = list(range(50, 350, 50))\n",
    "min_samples_split = [2, 5, 10, 12]\n",
    "min_samples_leaf = [1, 2, 4, 6]\n",
    "bootstrap = [True, False]\n",
    "\n",
    "grid = {'n_estimators': n_estimators,\n",
    "         'min_samples_split': min_samples_split,\n",
    "         'min_samples_leaf': min_samples_leaf,\n",
    "         'bootstrap': bootstrap\n",
    "}"
   ]
  },
  {
   "cell_type": "code",
   "execution_count": 618,
   "metadata": {},
   "outputs": [],
   "source": [
    "rf = RandomForestRegressor(random_state=7)\n",
    "grid_search = GridSearchCV(estimator=rf, param_grid=grid, cv=3)"
   ]
  },
  {
   "cell_type": "code",
   "execution_count": 619,
   "metadata": {},
   "outputs": [],
   "source": [
    "rf_pipe = Pipeline(\n",
    "    steps=[('cats', cat_processor),\n",
    "           ('grid', grid_search)]\n",
    ")\n",
    "\n",
    "#rf_pipe.fit(X_train, y_train)\n",
    "#rf_pipe['grid'].best_params_"
   ]
  },
  {
   "cell_type": "markdown",
   "metadata": {},
   "source": [
    "The grid search finished in 2.5 minutes. We obtain the following hyperparameters:\n",
    " - 'bootstrap': True,\n",
    " - 'min_samples_leaf': 4,\n",
    " - 'min_samples_split': 10,\n",
    " - 'n_estimators': 200"
   ]
  },
  {
   "cell_type": "code",
   "execution_count": 620,
   "metadata": {},
   "outputs": [
    {
     "data": {
      "text/plain": [
       "8.680601898580154"
      ]
     },
     "execution_count": 620,
     "metadata": {},
     "output_type": "execute_result"
    }
   ],
   "source": [
    "rf_hyperparams = {'bootstrap': True,\n",
    "                  'min_samples_leaf': 4,\n",
    "                  'min_samples_split': 10,\n",
    "                  'n_estimators': 200\n",
    "}\n",
    "\n",
    "rf_pipe_final = Pipeline(\n",
    "    steps=[('cats', cat_processor),\n",
    "           ('rf', RandomForestRegressor(random_state=7, **rf_hyperparams))]\n",
    ")\n",
    "\n",
    "scores = -1 * cross_val_score(rf_pipe_final, X_train, y_train, cv=5, scoring=\"neg_mean_squared_error\")\n",
    "scores.mean()"
   ]
  },
  {
   "cell_type": "markdown",
   "metadata": {},
   "source": [
    "Using the tuned hyperparameters gives about a .21 improvement in the mean squared error for random forests."
   ]
  },
  {
   "cell_type": "markdown",
   "metadata": {},
   "source": [
    "## Hyperparameter tuning: gradient boosting"
   ]
  },
  {
   "cell_type": "code",
   "execution_count": 621,
   "metadata": {},
   "outputs": [],
   "source": [
    "from sklearn.model_selection import RandomizedSearchCV"
   ]
  },
  {
   "cell_type": "code",
   "execution_count": 622,
   "metadata": {},
   "outputs": [],
   "source": [
    "n_estimators = list(range(100, 1100, 100))\n",
    "learning_rate = np.arange(.1, .25, 0.05)\n",
    "min_child_weight = [1, 5 ,10]\n",
    "gamma = [0.5, 1, 1.5, 2, 5]\n",
    "subsample = [0.6, 0.8, 1.0]\n",
    "colsample_bytree = [0.6, 0.8, 1]\n",
    "max_depth = [3, 4, 5]\n",
    "\n",
    "grid = {'n_estimators': n_estimators,\n",
    "        'learning_rate': learning_rate,\n",
    "        'min_child_weight': min_child_weight,\n",
    "        'gamma': gamma,\n",
    "        'subsample': subsample,\n",
    "        'colsample_bytree': colsample_bytree,\n",
    "        'max_depth': max_depth,\n",
    "}"
   ]
  },
  {
   "cell_type": "code",
   "execution_count": 623,
   "metadata": {},
   "outputs": [],
   "source": [
    "xgb = XGBRegressor()\n",
    "grid_search = RandomizedSearchCV(estimator=xgb, param_distributions=grid, cv=5, n_iter=100, n_jobs=-1)"
   ]
  },
  {
   "cell_type": "code",
   "execution_count": 624,
   "metadata": {},
   "outputs": [],
   "source": [
    "xgb_pipe = Pipeline(\n",
    "    steps=[('cat', cat_processor),\n",
    "           ('grid', grid_search)]\n",
    ")\n",
    "\n",
    "#xgb_pipe.fit(X_train, y_train)\n",
    "#xgb_pipe['grid'].best_params_"
   ]
  },
  {
   "cell_type": "code",
   "execution_count": 625,
   "metadata": {},
   "outputs": [],
   "source": [
    "grid = {\n",
    "    'subsample': [0.7, 0.8, 0.9],\n",
    "    'n_estimators': [50, 100, 150],\n",
    "    'min_child_weight': [9, 10, 11],\n",
    "    'max_depth': [2, 3],\n",
    "    'learning_rate': [0.05, 0.1],\n",
    "    'gamma': [0.75, 1.0, 1.25],\n",
    "    #'cosample_bytree': [0.5, 0.6]\n",
    "}"
   ]
  },
  {
   "cell_type": "code",
   "execution_count": 626,
   "metadata": {},
   "outputs": [],
   "source": [
    "grid_search = GridSearchCV(estimator=xgb, param_grid=grid, cv=3, n_jobs=-1)"
   ]
  },
  {
   "cell_type": "code",
   "execution_count": 627,
   "metadata": {},
   "outputs": [
    {
     "data": {
      "text/plain": [
       "{'gamma': 0.75,\n",
       " 'learning_rate': 0.1,\n",
       " 'max_depth': 2,\n",
       " 'min_child_weight': 11,\n",
       " 'n_estimators': 50,\n",
       " 'subsample': 0.9}"
      ]
     },
     "execution_count": 627,
     "metadata": {},
     "output_type": "execute_result"
    }
   ],
   "source": [
    "xgb_pipe = Pipeline(\n",
    "    steps=[('cat', cat_processor),\n",
    "           ('grid', grid_search)]\n",
    ")\n",
    "\n",
    "xgb_pipe.fit(X_train, y_train)\n",
    "xgb_pipe['grid'].best_params_"
   ]
  },
  {
   "cell_type": "markdown",
   "metadata": {},
   "source": [
    "We obtain the following hyperparameters for gradient boost:\n",
    " - 'cosample_bytree': 0.5,\n",
    " - 'gamma': 0.75,\n",
    " - 'learning_rate': 0.1,\n",
    " - 'max_depth': 2,\n",
    " - 'min_child_weight': 11,\n",
    " - 'n_estimators': 50,\n",
    " - 'subsample': 0.9}"
   ]
  },
  {
   "cell_type": "code",
   "execution_count": 628,
   "metadata": {},
   "outputs": [
    {
     "data": {
      "text/plain": [
       "8.642196689995023"
      ]
     },
     "execution_count": 628,
     "metadata": {},
     "output_type": "execute_result"
    }
   ],
   "source": [
    "xgb_hyperparams = {#'cosample_bytree': 0.5,\n",
    " 'gamma': 0.75,\n",
    " 'learning_rate': 0.1,\n",
    " 'max_depth': 2,\n",
    " 'min_child_weight': 11,\n",
    " 'n_estimators': 50,\n",
    " 'subsample': 0.9}\n",
    "\n",
    "xgb_pipe_final = Pipeline(\n",
    "    steps=[('cat', cat_processor),\n",
    "           ('xgb', XGBRegressor(n_jobs=-1, **xgb_hyperparams))]\n",
    ")\n",
    "\n",
    "scores = -1 * cross_val_score(xgb_pipe_final, X_train, y_train, cv=5, scoring=\"neg_mean_squared_error\")\n",
    "scores.mean()"
   ]
  },
  {
   "cell_type": "markdown",
   "metadata": {},
   "source": [
    "We obtain a massive improvement of about 1.7 in the mean squared error after hyperparameter tuning.\n",
    "\n",
    "After all this, we notice thta gradient boost performs slightly better than random forests. Because the difference is so small and random forests offer more interpretable results, we'll still opt to use random forests."
   ]
  },
  {
   "cell_type": "markdown",
   "metadata": {},
   "source": [
    "## Final model"
   ]
  },
  {
   "cell_type": "code",
   "execution_count": 629,
   "metadata": {},
   "outputs": [
    {
     "data": {
      "text/plain": [
       "8.756928334829883"
      ]
     },
     "execution_count": 629,
     "metadata": {},
     "output_type": "execute_result"
    }
   ],
   "source": [
    "final_pipe = rf_pipe_final\n",
    "final_pipe.fit(X_train, y_train)\n",
    "preds = final_pipe.predict(X_valid)\n",
    "mean_squared_error(y_valid, preds)"
   ]
  },
  {
   "cell_type": "code",
   "execution_count": 649,
   "metadata": {},
   "outputs": [],
   "source": [
    "feature_names = final_pipe['cats'].get_feature_names_out()\n",
    "rem_strs = ['scaler__', 'freq__', 'effects__', 'ord__']\n",
    "for i, feature in enumerate(feature_names):\n",
    "    for substr in rem_strs:\n",
    "        if feature.startswith(substr):\n",
    "            feature_names[i] = feature.replace(substr, '')\n",
    "            continue\n",
    "        elif feature.startswith('onehot__'):\n",
    "            feature_names[i] = feature.replace('onehot__Primary streaming service_', 'Primary: ')\n",
    "            continue\n",
    "\n",
    "wts = final_pipe['rf'].feature_importances_\n",
    "wtd_features = pd.DataFrame(wts, index=feature_names)\n",
    "wtd_features.columns = ['weights']\n",
    "wtd_features = wtd_features.sort_values(by='weights', ascending=False)"
   ]
  },
  {
   "cell_type": "code",
   "execution_count": 657,
   "metadata": {},
   "outputs": [
    {
     "data": {
      "text/plain": [
       "Text(0, 0.5, 'Feature')"
      ]
     },
     "execution_count": 657,
     "metadata": {},
     "output_type": "execute_result"
    },
    {
     "data": {
      "image/png": "[encoded data removed]",
      "text/plain": [
       "<Figure size 1872x864 with 1 Axes>"
      ]
     },
     "metadata": {
      "needs_background": "light"
     },
     "output_type": "display_data"
    }
   ],
   "source": [
    "plt.figure(figsize=(26,12))\n",
    "sns.barplot(y=wtd_features.index, x=wtd_features.weights)\n",
    "plt.title('Feature Effect on Depression in Random Forest Model', fontsize=16)\n",
    "plt.xlabel('Effect', fontsize=14)\n",
    "plt.ylabel('Feature', fontsize=14)"
   ]
  }
 ],
 "metadata": {
  "kernelspec": {
   "display_name": "Python 3.10.7 64-bit",
   "language": "python",
   "name": "python3"
  },
  "language_info": {
   "codemirror_mode": {
    "name": "ipython",
    "version": 3
   },
   "file_extension": ".py",
   "mimetype": "text/x-python",
   "name": "python",
   "nbconvert_exporter": "python",
   "pygments_lexer": "ipython3",
   "version": "3.10.7"
  },
  "orig_nbformat": 4,
  "vscode": {
   "interpreter": {
    "hash": "916dbcbb3f70747c44a77c7bcd40155683ae19c65e1c03b4aa3499c5328201f1"
   }
  }
 },
 "nbformat": 4,
 "nbformat_minor": 2
}
